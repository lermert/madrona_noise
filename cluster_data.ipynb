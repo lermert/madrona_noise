{
 "cells": [
  {
   "cell_type": "code",
   "execution_count": null,
   "metadata": {},
   "outputs": [],
   "source": [
    "from cluster import run_clustering\n",
    "from obspy import UTCDateTime\n",
    "import pandas as pd\n",
    "import seaborn as sns\n",
    "import numpy as np\n",
    "from cc_dataset_serial import CCDataset_serial\n",
    "import os"
   ]
  },
  {
   "cell_type": "code",
   "execution_count": null,
   "metadata": {},
   "outputs": [],
   "source": [
    "# Set up the configuration for clustering\n",
    "config = {}\n",
    "\n",
    "# Path to h5 files with data\n",
    "# you can use wildcard \"*\" (e.g. if data split over\n",
    "# day or year directories with same name pattern) \n",
    "# this will be the directory that clustering and \n",
    "# stacking both look for input\n",
    "config[\"input_directories\"] = \"data\"\n",
    "# directory where to save output\n",
    "config[\"cluster_dir\"] = \"clusters\"\n",
    "# stations, channels to consider\n",
    "config[\"stations\"] = [\"ESTA\"]\n",
    "config[\"channels\"] = [\"HHZ\", \"HHE\", \"HHN\"]\n",
    "# frequency bands: Will be used to filter data\n",
    "# before clustering.\n",
    "config[\"freq_bands\"]= [[4.0, 8.0]]\n",
    "# filter type: \"bandpass\" (butterworth)\n",
    "# or \"cheby2_bandpass\" (Chebysheff bandpass)\n",
    "# filtering will be applied for clustering\n",
    "config[\"filt_type\"] = \"bandpass\"\n",
    "# max. order\n",
    "# only relevant for cheby2_bandpass filter\n",
    "config[\"filt_maxord\"] = 18\n",
    "\n",
    "# nr. of random samples to be pulled from each file\n",
    "# to be used for determining principal components\n",
    "# e.g.: If there are 5 files for station G.UNM..HHZ\n",
    "# then this will randomly select n_samples_each_file\n",
    "# from each of them.\n",
    "# if you want to use all available data, set to \"all\"\n",
    "config[\"n_samples_each_file\"] = 1000\n",
    "# clustering is done in windows of the whole cc wave\n",
    "# form (assuming that not every wiggle up to very \n",
    "# long lag is important). Windows are symmetric Tukey\n",
    "# around twin_mid (in seconds, of lag)\n",
    "# and with a duration of hw_factor times the \n",
    "# longest period in the resp. frequency band.\n",
    "# center of window in terms of lag, seconds\n",
    "config[\"twin_mid\"] = 0.0\n",
    "# halfwidth in terms of longest period\n",
    "config[\"hw_factor\"] = 10\n",
    "# desired level of explaining variance by PCA\n",
    "config[\"expl_var\"] = 0.9\n",
    "# n clusters to try out. \n",
    "# the final number will be based on estimating \n",
    "# the \"knee\" of the Bayesian information criterion \n",
    "config[\"nclustmax\"] =  20\n",
    "# print extra info or not:\n",
    "config[\"print_debug\"] = True"
   ]
  },
  {
   "cell_type": "code",
   "execution_count": null,
   "metadata": {},
   "outputs": [],
   "source": [
    "# create output directory\n",
    "if not os.path.exists(config[\"cluster_dir\"]):\n",
    "    os.makedirs(config[\"cluster_dir\"])\n",
    "\n",
    "# run the clustering\n",
    "run_clustering(config, 0, 1)"
   ]
  },
  {
   "cell_type": "code",
   "execution_count": null,
   "metadata": {},
   "outputs": [],
   "source": [
    "cfile = \"clusters/ESTA.HHZ-ESTA.HHE_4.0-8.0Hz.gmmlabels.npy\"\n",
    "# plot the cluster labels\n",
    "clusters = np.load(cfile)\n",
    "dat = pd.DataFrame(columns=[\"timestamps\", \"labels\"])\n",
    "dat[\"timestamps\"] = clusters[0]\n",
    "dat[\"labels\"] = clusters[1]\n",
    "dat[\"hour\"] = [float(UTCDateTime(t).strftime(\"%H\")) for t in dat[\"timestamps\"]]\n",
    "sns.scatterplot(x=\"timestamps\", y=\"hour\", data=dat, hue=\"labels\", linewidth=0,\n",
    "                palette=sns.color_palette(n_colors=len(dat.labels.unique())),\n",
    "                )\n"
   ]
  },
  {
   "cell_type": "code",
   "execution_count": null,
   "metadata": {},
   "outputs": [],
   "source": [
    "# plot some waveforms\n",
    "dset = CCDataset_serial(\"data/TO.ESTA.01.HHZ--TO.ESTA.01.HHE.ccc.windows.h5\")\n",
    "dset.data_to_memory(ix_corr_max=100)"
   ]
  },
  {
   "cell_type": "code",
   "execution_count": null,
   "metadata": {},
   "outputs": [],
   "source": [
    "dset.dataset[0].filter_data(f_hp=config[\"freq_bands\"][0][0],\n",
    "                            f_lp=config[\"freq_bands\"][0][1],)"
   ]
  },
  {
   "cell_type": "code",
   "execution_count": null,
   "metadata": {},
   "outputs": [],
   "source": [
    "dset.dataset[0].add_cluster_labels(clusters)\n"
   ]
  },
  {
   "cell_type": "code",
   "execution_count": null,
   "metadata": {},
   "outputs": [],
   "source": [
    "dset.plot_stacks(stacklevel=0,cluster_label=3, mask_gaps=1, lag_min=-5, lag_max=5)"
   ]
  },
  {
   "cell_type": "code",
   "execution_count": null,
   "metadata": {},
   "outputs": [],
   "source": []
  },
  {
   "cell_type": "code",
   "execution_count": null,
   "metadata": {},
   "outputs": [],
   "source": []
  }
 ],
 "metadata": {
  "kernelspec": {
   "display_name": "Python 3",
   "language": "python",
   "name": "python3"
  },
  "language_info": {
   "codemirror_mode": {
    "name": "ipython",
    "version": 3
   },
   "file_extension": ".py",
   "mimetype": "text/x-python",
   "name": "python",
   "nbconvert_exporter": "python",
   "pygments_lexer": "ipython3",
   "version": "3.6.10"
  }
 },
 "nbformat": 4,
 "nbformat_minor": 5
}
